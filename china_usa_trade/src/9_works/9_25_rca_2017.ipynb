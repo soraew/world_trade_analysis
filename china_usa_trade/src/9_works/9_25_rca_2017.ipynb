{
 "cells": [
  {
   "cell_type": "code",
   "execution_count": 1,
   "metadata": {},
   "outputs": [],
   "source": [
    "import pandas as pd\n",
    "import numpy as np\n",
    "import plotly.express as px\n",
    "import plotly.graph_objects as go\n",
    "import networkx as nx\n",
    "import matplotlib.pyplot as plt\n",
    "from warnings import filterwarnings\n",
    "filterwarnings('ignore')\n"
   ]
  },
  {
   "cell_type": "code",
   "execution_count": 6,
   "metadata": {},
   "outputs": [],
   "source": [
    "def get_data(\n",
    "        csvs_root='../../csvs/',\n",
    "        rca_n_name='RCA_n.csv',\n",
    "        data_root='../../../../data/trade/BACI/'):\n",
    "    # RCA BASE TABLE\n",
    "    rca_n = pd.read_csv(\n",
    "        csvs_root  + rca_n_name,\n",
    "        dtype={'product': object, 'flow':int})\n",
    "\n",
    "    # COMMODITY CODE\n",
    "    commodity_code = pd.read_csv(\n",
    "        csvs_root + 'commodity_code.csv',\n",
    "        encoding='latin-1',\n",
    "        dtype={'Code': object, 'isLeaf':int, 'Level':int})\n",
    "    # BACI uses SITC rev 3(S3)\n",
    "    commodity_code = \\\n",
    "        commodity_code[commodity_code['Classification']=='S3']\n",
    "    # drop last column\n",
    "    commodity_code = commodity_code.iloc[:, :-1]\n",
    "\n",
    "    # COUNTRY NAMES\n",
    "    country_df = pd.read_csv(data_root + 'countries.csv')\n",
    "    countries = country_df.Name.values\n",
    "    countries = np.append(countries, [\"United States of America\", \"China, Hong Kong SAR\", \"China, Taiwan Province of\", \"Türkiye\", \"Iran (Islamic Republic of)\", \"Czechia\", \"Switzerland, Liechtenstein\", \"China, Macao SAR\", \"Korea, Dem. People's Rep. of\", \"Venezuela (Bolivarian Rep. of)\", \"Côte d'Ivoire\", \"Congo, Dem. Rep. of the\", \"Lao People's Dem. Rep.\", \"Bolivia (Plurinational State of)\", \"North Macedonia\", \"Curaçao\", \"State of Palestine\", \"Cabo Verde\", \"Eswatini\", \"British Virgin Islands\", \"Micronesia (Federated States of)\", \"Wallis and Futuna Islands\", \"Holy See\",])\n",
    "    return rca_n, commodity_code, countries"
   ]
  },
  {
   "cell_type": "markdown",
   "metadata": {},
   "source": [
    "# 2017 data"
   ]
  },
  {
   "cell_type": "code",
   "execution_count": 20,
   "metadata": {},
   "outputs": [],
   "source": [
    "# load data \n",
    "csvs_root = '../../csvs/'\n",
    "data_root = '../../../../data/trade/BACI/'\n",
    "rca_n_xaa_2017, commodity_code, countries = \\\n",
    "    get_data(csvs_root, 'rca_n_xaa_2017.csv', data_root)\n",
    "rca_n_xab_2017, commodity_code, countries = \\\n",
    "    get_data(csvs_root, 'rca_n_xab_2017.csv', data_root)\n",
    "\n",
    "# merge xaa and xab\n",
    "rca_n = pd.concat([rca_n_xaa_2017, rca_n_xab_2017])\n",
    "rca_n.drop_duplicates(inplace=True)\n",
    "\n",
    "# merge\n",
    "commodity_code.rename(columns={'Code': 'product'}, inplace=True)\n",
    "rca_n = rca_n.merge(commodity_code, on='product', how='left')"
   ]
  },
  {
   "cell_type": "markdown",
   "metadata": {},
   "source": [
    "## exports only"
   ]
  },
  {
   "cell_type": "code",
   "execution_count": 21,
   "metadata": {},
   "outputs": [],
   "source": [
    "# only exports \n",
    "rca_n = rca_n[rca_n.flow==2].copy()\n",
    "\n",
    "# only countries\n",
    "rca_n_countries = rca_n[rca_n.economy_label.isin(countries)].copy()\n",
    "\n",
    "# drop columns that aren't included in commodity codes\n",
    "rca_n_countries.dropna(subset=['Classification'], inplace=True)"
   ]
  },
  {
   "cell_type": "markdown",
   "metadata": {},
   "source": [
    "### some data missing between level1 and 2,3but we will work with 3"
   ]
  },
  {
   "cell_type": "code",
   "execution_count": 23,
   "metadata": {},
   "outputs": [
    {
     "data": {
      "text/html": [
       "<div>\n",
       "<style scoped>\n",
       "    .dataframe tbody tr th:only-of-type {\n",
       "        vertical-align: middle;\n",
       "    }\n",
       "\n",
       "    .dataframe tbody tr th {\n",
       "        vertical-align: top;\n",
       "    }\n",
       "\n",
       "    .dataframe thead th {\n",
       "        text-align: right;\n",
       "    }\n",
       "</style>\n",
       "<table border=\"1\" class=\"dataframe\">\n",
       "  <thead>\n",
       "    <tr style=\"text-align: right;\">\n",
       "      <th></th>\n",
       "      <th>Level</th>\n",
       "      <th>sum_kusd</th>\n",
       "    </tr>\n",
       "  </thead>\n",
       "  <tbody>\n",
       "    <tr>\n",
       "      <th>0</th>\n",
       "      <td>0.0</td>\n",
       "      <td>4.855826e+11</td>\n",
       "    </tr>\n",
       "    <tr>\n",
       "      <th>1</th>\n",
       "      <td>1.0</td>\n",
       "      <td>4.853860e+11</td>\n",
       "    </tr>\n",
       "    <tr>\n",
       "      <th>2</th>\n",
       "      <td>2.0</td>\n",
       "      <td>4.724147e+11</td>\n",
       "    </tr>\n",
       "    <tr>\n",
       "      <th>3</th>\n",
       "      <td>3.0</td>\n",
       "      <td>4.724147e+11</td>\n",
       "    </tr>\n",
       "  </tbody>\n",
       "</table>\n",
       "</div>"
      ],
      "text/plain": [
       "   Level      sum_kusd\n",
       "0    0.0  4.855826e+11\n",
       "1    1.0  4.853860e+11\n",
       "2    2.0  4.724147e+11\n",
       "3    3.0  4.724147e+11"
      ]
     },
     "execution_count": 23,
     "metadata": {},
     "output_type": "execute_result"
    }
   ],
   "source": [
    "rca_n_countries.groupby(['Level'])['sum_kusd'].sum().reset_index()"
   ]
  },
  {
   "cell_type": "code",
   "execution_count": 24,
   "metadata": {},
   "outputs": [],
   "source": [
    "level3_filter = rca_n_countries.Level==3\n",
    "rca_n_countries = rca_n_countries[level3_filter].copy()"
   ]
  },
  {
   "cell_type": "markdown",
   "metadata": {},
   "source": [
    "## calc RCA"
   ]
  },
  {
   "cell_type": "code",
   "execution_count": 25,
   "metadata": {},
   "outputs": [],
   "source": [
    "# product/sum(product) for each country\n",
    "\n",
    "sum_per_n = rca_n_countries.groupby(['economy_label'])\\\n",
    "    .agg({'sum_kusd': 'sum'})\\\n",
    "        .reset_index()[['economy_label', 'sum_kusd']]\n",
    "sum_per_n = sum_per_n.rename({'sum_kusd': 'sum_per_n'}, axis=1)[['economy_label', 'sum_per_n']]\n",
    "\n",
    "rca_n_countries = pd.merge(rca_n_countries, sum_per_n, on='economy_label', how='left')\n",
    "rca_n_countries['n_ratio'] = rca_n_countries.apply(lambda x: x['sum_kusd']/x['sum_per_n'], axis=1)\n",
    "\n",
    "\n",
    "# product/sum(product) across countries\n",
    "\n",
    "sum_per_p = rca_n_countries.groupby(['product'])\\\n",
    "    .agg({'sum_kusd':'sum'})\\\n",
    "        .reset_index()[['product', 'sum_kusd']]\n",
    "sum_per_p = sum_per_p.rename({'sum_kusd': 'sum_per_p'}, axis=1)[['product', 'sum_per_p']] # renaming for merging\n",
    "\n",
    "rca_n_countries = pd.merge(rca_n_countries, sum_per_p, on='product', how='left')\n",
    "\n",
    "# total of exports\n",
    "sum_p = rca_n_countries['sum_kusd'].sum()\n",
    "rca_n_countries['p_ratio'] = rca_n_countries.apply(lambda x: x['sum_per_p']/sum_p, axis=1)\n",
    "\n",
    "rca_n_countries.sort_values(by=['economy_label','product'], inplace=True)\n",
    "rca_n_countries.reset_index(drop=True, inplace=True)\n",
    "rca_n_countries.to_csv('tmp.csv', index=False)\n"
   ]
  },
  {
   "cell_type": "markdown",
   "metadata": {},
   "source": [
    "### diff of sum(products) vs TOTAL"
   ]
  },
  {
   "cell_type": "code",
   "execution_count": 28,
   "metadata": {},
   "outputs": [
    {
     "name": "stdout",
     "output_type": "stream",
     "text": [
      "China\n",
      "(calculated - actual)/actual:  -0.2 %;\n",
      "                               -144 million dollars\n"
     ]
    }
   ],
   "source": [
    "economy_name = 'United States of America'\n",
    "economy_name = 'China'\n",
    "rca_n_countries_economy_filter = (rca_n_countries.economy_label==economy_name).values\n",
    "rca_n_economy_filter = (rca_n.economy_label==economy_name).values\n",
    "calculated_sum_per_n = rca_n_countries[rca_n_countries_economy_filter]['sum_per_n'].unique()\n",
    "assert len(calculated_sum_per_n) == 1\n",
    "actual_sum_per_n = rca_n[(rca_n['Level']==0).values & rca_n_economy_filter]['sum_kusd'].values[0]\n",
    "difference = calculated_sum_per_n[0] - actual_sum_per_n\n",
    "print(economy_name)\n",
    "print(\"(calculated - actual)/actual: \", round(difference/actual_sum_per_n, 3)*100\n",
    ", \"%;\\n\", \" \"*29,round(difference/1e6), \"million dollars\")"
   ]
  },
  {
   "cell_type": "code",
   "execution_count": 27,
   "metadata": {},
   "outputs": [],
   "source": [
    "china_filter = (rca_n_countries['economy_label'] == 'China').values\n",
    "usa_filter = (rca_n_countries['economy_label'] == 'United States of America').values\n",
    "ukraine_filter = (rca_n_countries['economy_label'] == 'Ukraine').values\n",
    "russia_filter = (rca_n_countries['economy_label'] == 'Russian Federation').values\n",
    "rca_filter = (rca_n_countries['n_ratio'] > rca_n_countries['p_ratio']).values\n",
    "\n",
    "china_rca = rca_n_countries[china_filter & rca_filter]\n",
    "usa_rca = rca_n_countries[usa_filter & rca_filter]\n",
    "\n",
    "china_rca_top5 = china_rca.sort_values(by=['n_ratio'], ascending=False).head(5)\n",
    "usa_rca_top5 = usa_rca.sort_values(by=['n_ratio'], ascending=False).head(5)\n",
    "\n",
    "china_rca_top5_names = china_rca_top5['product'].values\n",
    "usa_rca_top5_names = usa_rca_top5['product'].values\n",
    "\n",
    "# get products to make product network from \n",
    "top5_union = np.concatenate((china_rca_top5_names, usa_rca_top5_names))\n",
    "top5_union = np.unique(top5_union)"
   ]
  },
  {
   "cell_type": "code",
   "execution_count": 49,
   "metadata": {},
   "outputs": [
    {
     "data": {
      "text/plain": [
       "array(['222', '334', '728', '752', '759', '764', '778', '784', '821',\n",
       "       '874'], dtype=object)"
      ]
     },
     "execution_count": 49,
     "metadata": {},
     "output_type": "execute_result"
    }
   ],
   "source": [
    "top5_union"
   ]
  },
  {
   "cell_type": "code",
   "execution_count": 47,
   "metadata": {},
   "outputs": [
    {
     "name": "stdout",
     "output_type": "stream",
     "text": [
      "dissapeared : Footwear\n",
      "new         : Other machinery for particular industries, n.e.s.\n",
      "new         : Parts, accessories for machines of groups 751, 752\n"
     ]
    }
   ],
   "source": [
    "# compare with 2016\n",
    "top5_union_2016 = ['222', '334', '752', '764', '778', '784', '821', '851', '874']\n",
    "# what dissapeared from 2016 to 2017\n",
    "dissapeared = set(top5_union_2016) - set(top5_union) \n",
    "dissapeared = list(dissapeared)\n",
    "new = set(top5_union) - set(top5_union_2016)\n",
    "new = list(new)\n",
    "for product in dissapeared:\n",
    "    print('dissapeared : ', end='')\n",
    "    print(rca_n[rca_n['product'] == product]['product_label'].values[0])\n",
    "for product in new:\n",
    "    print('new         : ', end='')\n",
    "    print(rca_n[rca_n['product'] == product]['product_label'].values[0])"
   ]
  },
  {
   "cell_type": "code",
   "execution_count": null,
   "metadata": {},
   "outputs": [],
   "source": []
  }
 ],
 "metadata": {
  "kernelspec": {
   "display_name": "netsci",
   "language": "python",
   "name": "python3"
  },
  "language_info": {
   "codemirror_mode": {
    "name": "ipython",
    "version": 3
   },
   "file_extension": ".py",
   "mimetype": "text/x-python",
   "name": "python",
   "nbconvert_exporter": "python",
   "pygments_lexer": "ipython3",
   "version": "3.9.16"
  },
  "orig_nbformat": 4
 },
 "nbformat": 4,
 "nbformat_minor": 2
}
